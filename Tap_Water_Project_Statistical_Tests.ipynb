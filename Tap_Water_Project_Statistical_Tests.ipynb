{
  "nbformat": 4,
  "nbformat_minor": 0,
  "metadata": {
    "colab": {
      "name": "Tap_Water_Project_Statistical_Tests",
      "provenance": [],
      "collapsed_sections": []
    },
    "kernelspec": {
      "name": "python3",
      "display_name": "Python 3"
    },
    "language_info": {
      "name": "python"
    }
  },
  "cells": [
    {
      "cell_type": "code",
      "source": [
        "import pandas as pd\n",
        "import numpy as np\n",
        "import plotly.graph_objects as go # for visualization\n",
        "import math\n",
        "# making data frame  \n",
        "df = pd.read_excel(\"Hot_and_Cold_final.xlsx\")"
      ],
      "metadata": {
        "id": "I6ci2PI-GmPz"
      },
      "execution_count": 146,
      "outputs": []
    },
    {
      "cell_type": "code",
      "source": [
        "df['Year'] = df['Date'].dt.year\n",
        "df['Month'] = df['Date'].dt.month\n",
        "df['Day'] = df['Date'].dt.day"
      ],
      "metadata": {
        "id": "WGNsdI_tG-vY"
      },
      "execution_count": 147,
      "outputs": []
    },
    {
      "cell_type": "code",
      "source": [
        "avg_hpc = df.groupby('Date')['HPC CFU/ml'].mean()\n",
        "avg_hpc_arr = avg_hpc.values.tolist()"
      ],
      "metadata": {
        "id": "SRuQz7vQgdTT"
      },
      "execution_count": 148,
      "outputs": []
    },
    {
      "cell_type": "code",
      "source": [
        "len(avg_hpc_arr)"
      ],
      "metadata": {
        "colab": {
          "base_uri": "https://localhost:8080/"
        },
        "id": "y4x8e7EOi173",
        "outputId": "bdeb188d-08a8-4fd9-a12c-0e9abe060a53"
      },
      "execution_count": 149,
      "outputs": [
        {
          "output_type": "execute_result",
          "data": {
            "text/plain": [
              "2133"
            ]
          },
          "metadata": {},
          "execution_count": 149
        }
      ]
    },
    {
      "cell_type": "code",
      "source": [
        "days = []\n",
        "for i in range(1,2134):\n",
        "  days.append(i)\n",
        "\n",
        "len(days)"
      ],
      "metadata": {
        "id": "bFFv0AmAiREO",
        "colab": {
          "base_uri": "https://localhost:8080/"
        },
        "outputId": "7dba4b23-5dfd-4f9a-ea44-669c779173a5"
      },
      "execution_count": 150,
      "outputs": [
        {
          "output_type": "execute_result",
          "data": {
            "text/plain": [
              "2133"
            ]
          },
          "metadata": {},
          "execution_count": 150
        }
      ]
    },
    {
      "cell_type": "code",
      "source": [
        "# Example of the Spearman's Rank Correlation Test between the avg HPC and the number of days\n",
        "from scipy.stats import spearmanr\n",
        "data1 = avg_hpc_arr\n",
        "data2 = days\n",
        "stat, p = spearmanr(data1, data2)\n",
        "print('stat=%.3f, p=%.10f' % (stat, p))\n",
        "if p > 0.05:\n",
        "\tprint('Probably independent')\n",
        "else:\n",
        "\tprint('Probably dependent')"
      ],
      "metadata": {
        "colab": {
          "base_uri": "https://localhost:8080/"
        },
        "id": "9geMRu-zi549",
        "outputId": "6f077ebf-8cf4-4a77-b75c-64e5cc0bc207"
      },
      "execution_count": 151,
      "outputs": [
        {
          "output_type": "stream",
          "name": "stdout",
          "text": [
            "stat=0.069, p=0.0014252487\n",
            "Probably dependent\n"
          ]
        }
      ]
    },
    {
      "cell_type": "code",
      "source": [
        "year2011 = df.loc[df['Year'] == 2011]\n",
        "year2012 = df.loc[df['Year'] == 2012]\n",
        "year2013 = df.loc[df['Year'] == 2013]\n",
        "year2014 = df.loc[df['Year'] == 2014]\n",
        "year2015 = df.loc[df['Year'] == 2015]\n",
        "year2016 = df.loc[df['Year'] == 2016]\n",
        "year2017 = df.loc[df['Year'] == 2017]\n",
        "year2018 = df.loc[df['Year'] == 2018]\n",
        "year2019 = df.loc[df['Year'] == 2019]\n",
        "year2020 = df.loc[df['Year'] == 2020]\n",
        "year2021 = df.loc[df['Year'] == 2021]"
      ],
      "metadata": {
        "id": "7w6IyDAPGkwv"
      },
      "execution_count": 152,
      "outputs": []
    },
    {
      "cell_type": "code",
      "source": [
        "# Example of the Kruskal-Wallis H Test to determine if there is a difference in HPC levels over the years.\n",
        "from scipy.stats import kruskal\n",
        "data1 = year2011['HPC CFU/ml']\n",
        "data2 = year2012['HPC CFU/ml']\n",
        "data3 = year2013['HPC CFU/ml']\n",
        "data4 = year2014['HPC CFU/ml']\n",
        "data5 = year2015['HPC CFU/ml']\n",
        "data6 = year2016['HPC CFU/ml']\n",
        "data7 = year2017['HPC CFU/ml']\n",
        "data8 = year2018['HPC CFU/ml']\n",
        "data9 = year2019['HPC CFU/ml']\n",
        "data10 = year2020['HPC CFU/ml']\n",
        "data11 = year2021['HPC CFU/ml']\n",
        "stat, p = kruskal(data1, data2, data3, data4, data5, data6, data7, data8, data9, data10, data11)\n",
        "print('stat=%.3f, p=%.100f' % (stat, p))\n",
        "if p > 0.05:\n",
        "\tprint('Probably the same distribution')\n",
        "else:\n",
        "\tprint('Probably different distributions')"
      ],
      "metadata": {
        "colab": {
          "base_uri": "https://localhost:8080/"
        },
        "id": "TjEzBbqxGJxz",
        "outputId": "22fa34be-76d1-4079-ad3d-80a76b1bc656"
      },
      "execution_count": 153,
      "outputs": [
        {
          "output_type": "stream",
          "name": "stdout",
          "text": [
            "stat=471.809, p=0.0000000000000000000000000000000000000000000000000000000000000000000000000000000000000000000000463608\n",
            "Probably different distributions\n"
          ]
        }
      ]
    },
    {
      "cell_type": "code",
      "source": [
        "Hot_df = df.loc[df['Water type'] == 1]\n",
        "Cold_df = df.loc[df['Water type'] == 0]"
      ],
      "metadata": {
        "id": "qahz_A6mA-Zk"
      },
      "execution_count": 154,
      "outputs": []
    },
    {
      "cell_type": "code",
      "source": [
        "# Example of the Kruskal-Wallis H Test to determine if there is a difference in HPC between hot and cold water.\n",
        "data1 = Hot_df['HPC CFU/ml']\n",
        "data2 = Cold_df['HPC CFU/ml']\n",
        "stat, p = kruskal(data1, data2)\n",
        "print('stat=%.3f, p=%.10f' % (stat, p))\n",
        "if p > 0.05:\n",
        "\tprint('Probably the same distribution')\n",
        "else:\n",
        "\tprint('Probably different distributions')"
      ],
      "metadata": {
        "colab": {
          "base_uri": "https://localhost:8080/"
        },
        "id": "aBp2Fs-3BOlE",
        "outputId": "25c648ac-88bc-481c-a828-b0e8f40344e6"
      },
      "execution_count": 155,
      "outputs": [
        {
          "output_type": "stream",
          "name": "stdout",
          "text": [
            "stat=1.230, p=0.2674744729\n",
            "Probably the same distribution\n"
          ]
        }
      ]
    },
    {
      "cell_type": "code",
      "source": [
        "#Feature Selection\n",
        "new_df = df[['Chlorine mg\\l','Turbidity NTU','Climate Temperature','Day Before Min','Day Before Max','Water Temperature','HPC CFU/ml']]\n",
        "new_df.drop(new_df.index[new_df['Chlorine mg\\l'] == 'ND'], inplace = True)\n",
        "new_df.drop(new_df.index[new_df['Turbidity NTU'] == 'ND'], inplace = True)\n",
        "new_df = new_df.astype(float)\n",
        "new_df = new_df.dropna()\n",
        "new_df.loc[(new_df['HPC CFU/ml'] == 0),'HPC CFU/ml'] = 0.001\n",
        "new_df['HPC CFU/ml'] = np.log(new_df['HPC CFU/ml'])\n",
        "corr_df = new_df.corr(method='spearman')\n",
        "corr_df"
      ],
      "metadata": {
        "colab": {
          "base_uri": "https://localhost:8080/",
          "height": 360
        },
        "id": "ERfdxHITCfbf",
        "outputId": "1652c94e-0b72-4c56-8889-d49033557624"
      },
      "execution_count": 156,
      "outputs": [
        {
          "output_type": "stream",
          "name": "stderr",
          "text": [
            "/usr/local/lib/python3.7/dist-packages/pandas/core/frame.py:4913: SettingWithCopyWarning: \n",
            "A value is trying to be set on a copy of a slice from a DataFrame\n",
            "\n",
            "See the caveats in the documentation: https://pandas.pydata.org/pandas-docs/stable/user_guide/indexing.html#returning-a-view-versus-a-copy\n",
            "  errors=errors,\n"
          ]
        },
        {
          "output_type": "execute_result",
          "data": {
            "text/plain": [
              "                     Chlorine mg\\l  Turbidity NTU  Climate Temperature  \\\n",
              "Chlorine mg\\l             1.000000      -0.159881            -0.029214   \n",
              "Turbidity NTU            -0.159881       1.000000             0.025734   \n",
              "Climate Temperature      -0.029214       0.025734             1.000000   \n",
              "Day Before Min           -0.081908       0.039402             0.876137   \n",
              "Day Before Max           -0.015847       0.000735             0.900783   \n",
              "Water Temperature        -0.088697      -0.103310             0.084919   \n",
              "HPC CFU/ml               -0.179321       0.108452             0.038852   \n",
              "\n",
              "                     Day Before Min  Day Before Max  Water Temperature  \\\n",
              "Chlorine mg\\l             -0.081908       -0.015847          -0.088697   \n",
              "Turbidity NTU              0.039402        0.000735          -0.103310   \n",
              "Climate Temperature        0.876137        0.900783           0.084919   \n",
              "Day Before Min             1.000000        0.778984           0.032728   \n",
              "Day Before Max             0.778984        1.000000           0.065375   \n",
              "Water Temperature          0.032728        0.065375           1.000000   \n",
              "HPC CFU/ml                 0.074484        0.031010          -0.156758   \n",
              "\n",
              "                     HPC CFU/ml  \n",
              "Chlorine mg\\l         -0.179321  \n",
              "Turbidity NTU          0.108452  \n",
              "Climate Temperature    0.038852  \n",
              "Day Before Min         0.074484  \n",
              "Day Before Max         0.031010  \n",
              "Water Temperature     -0.156758  \n",
              "HPC CFU/ml             1.000000  "
            ],
            "text/html": [
              "\n",
              "  <div id=\"df-627c0637-9444-4212-b63c-e48713b0c558\">\n",
              "    <div class=\"colab-df-container\">\n",
              "      <div>\n",
              "<style scoped>\n",
              "    .dataframe tbody tr th:only-of-type {\n",
              "        vertical-align: middle;\n",
              "    }\n",
              "\n",
              "    .dataframe tbody tr th {\n",
              "        vertical-align: top;\n",
              "    }\n",
              "\n",
              "    .dataframe thead th {\n",
              "        text-align: right;\n",
              "    }\n",
              "</style>\n",
              "<table border=\"1\" class=\"dataframe\">\n",
              "  <thead>\n",
              "    <tr style=\"text-align: right;\">\n",
              "      <th></th>\n",
              "      <th>Chlorine mg\\l</th>\n",
              "      <th>Turbidity NTU</th>\n",
              "      <th>Climate Temperature</th>\n",
              "      <th>Day Before Min</th>\n",
              "      <th>Day Before Max</th>\n",
              "      <th>Water Temperature</th>\n",
              "      <th>HPC CFU/ml</th>\n",
              "    </tr>\n",
              "  </thead>\n",
              "  <tbody>\n",
              "    <tr>\n",
              "      <th>Chlorine mg\\l</th>\n",
              "      <td>1.000000</td>\n",
              "      <td>-0.159881</td>\n",
              "      <td>-0.029214</td>\n",
              "      <td>-0.081908</td>\n",
              "      <td>-0.015847</td>\n",
              "      <td>-0.088697</td>\n",
              "      <td>-0.179321</td>\n",
              "    </tr>\n",
              "    <tr>\n",
              "      <th>Turbidity NTU</th>\n",
              "      <td>-0.159881</td>\n",
              "      <td>1.000000</td>\n",
              "      <td>0.025734</td>\n",
              "      <td>0.039402</td>\n",
              "      <td>0.000735</td>\n",
              "      <td>-0.103310</td>\n",
              "      <td>0.108452</td>\n",
              "    </tr>\n",
              "    <tr>\n",
              "      <th>Climate Temperature</th>\n",
              "      <td>-0.029214</td>\n",
              "      <td>0.025734</td>\n",
              "      <td>1.000000</td>\n",
              "      <td>0.876137</td>\n",
              "      <td>0.900783</td>\n",
              "      <td>0.084919</td>\n",
              "      <td>0.038852</td>\n",
              "    </tr>\n",
              "    <tr>\n",
              "      <th>Day Before Min</th>\n",
              "      <td>-0.081908</td>\n",
              "      <td>0.039402</td>\n",
              "      <td>0.876137</td>\n",
              "      <td>1.000000</td>\n",
              "      <td>0.778984</td>\n",
              "      <td>0.032728</td>\n",
              "      <td>0.074484</td>\n",
              "    </tr>\n",
              "    <tr>\n",
              "      <th>Day Before Max</th>\n",
              "      <td>-0.015847</td>\n",
              "      <td>0.000735</td>\n",
              "      <td>0.900783</td>\n",
              "      <td>0.778984</td>\n",
              "      <td>1.000000</td>\n",
              "      <td>0.065375</td>\n",
              "      <td>0.031010</td>\n",
              "    </tr>\n",
              "    <tr>\n",
              "      <th>Water Temperature</th>\n",
              "      <td>-0.088697</td>\n",
              "      <td>-0.103310</td>\n",
              "      <td>0.084919</td>\n",
              "      <td>0.032728</td>\n",
              "      <td>0.065375</td>\n",
              "      <td>1.000000</td>\n",
              "      <td>-0.156758</td>\n",
              "    </tr>\n",
              "    <tr>\n",
              "      <th>HPC CFU/ml</th>\n",
              "      <td>-0.179321</td>\n",
              "      <td>0.108452</td>\n",
              "      <td>0.038852</td>\n",
              "      <td>0.074484</td>\n",
              "      <td>0.031010</td>\n",
              "      <td>-0.156758</td>\n",
              "      <td>1.000000</td>\n",
              "    </tr>\n",
              "  </tbody>\n",
              "</table>\n",
              "</div>\n",
              "      <button class=\"colab-df-convert\" onclick=\"convertToInteractive('df-627c0637-9444-4212-b63c-e48713b0c558')\"\n",
              "              title=\"Convert this dataframe to an interactive table.\"\n",
              "              style=\"display:none;\">\n",
              "        \n",
              "  <svg xmlns=\"http://www.w3.org/2000/svg\" height=\"24px\"viewBox=\"0 0 24 24\"\n",
              "       width=\"24px\">\n",
              "    <path d=\"M0 0h24v24H0V0z\" fill=\"none\"/>\n",
              "    <path d=\"M18.56 5.44l.94 2.06.94-2.06 2.06-.94-2.06-.94-.94-2.06-.94 2.06-2.06.94zm-11 1L8.5 8.5l.94-2.06 2.06-.94-2.06-.94L8.5 2.5l-.94 2.06-2.06.94zm10 10l.94 2.06.94-2.06 2.06-.94-2.06-.94-.94-2.06-.94 2.06-2.06.94z\"/><path d=\"M17.41 7.96l-1.37-1.37c-.4-.4-.92-.59-1.43-.59-.52 0-1.04.2-1.43.59L10.3 9.45l-7.72 7.72c-.78.78-.78 2.05 0 2.83L4 21.41c.39.39.9.59 1.41.59.51 0 1.02-.2 1.41-.59l7.78-7.78 2.81-2.81c.8-.78.8-2.07 0-2.86zM5.41 20L4 18.59l7.72-7.72 1.47 1.35L5.41 20z\"/>\n",
              "  </svg>\n",
              "      </button>\n",
              "      \n",
              "  <style>\n",
              "    .colab-df-container {\n",
              "      display:flex;\n",
              "      flex-wrap:wrap;\n",
              "      gap: 12px;\n",
              "    }\n",
              "\n",
              "    .colab-df-convert {\n",
              "      background-color: #E8F0FE;\n",
              "      border: none;\n",
              "      border-radius: 50%;\n",
              "      cursor: pointer;\n",
              "      display: none;\n",
              "      fill: #1967D2;\n",
              "      height: 32px;\n",
              "      padding: 0 0 0 0;\n",
              "      width: 32px;\n",
              "    }\n",
              "\n",
              "    .colab-df-convert:hover {\n",
              "      background-color: #E2EBFA;\n",
              "      box-shadow: 0px 1px 2px rgba(60, 64, 67, 0.3), 0px 1px 3px 1px rgba(60, 64, 67, 0.15);\n",
              "      fill: #174EA6;\n",
              "    }\n",
              "\n",
              "    [theme=dark] .colab-df-convert {\n",
              "      background-color: #3B4455;\n",
              "      fill: #D2E3FC;\n",
              "    }\n",
              "\n",
              "    [theme=dark] .colab-df-convert:hover {\n",
              "      background-color: #434B5C;\n",
              "      box-shadow: 0px 1px 3px 1px rgba(0, 0, 0, 0.15);\n",
              "      filter: drop-shadow(0px 1px 2px rgba(0, 0, 0, 0.3));\n",
              "      fill: #FFFFFF;\n",
              "    }\n",
              "  </style>\n",
              "\n",
              "      <script>\n",
              "        const buttonEl =\n",
              "          document.querySelector('#df-627c0637-9444-4212-b63c-e48713b0c558 button.colab-df-convert');\n",
              "        buttonEl.style.display =\n",
              "          google.colab.kernel.accessAllowed ? 'block' : 'none';\n",
              "\n",
              "        async function convertToInteractive(key) {\n",
              "          const element = document.querySelector('#df-627c0637-9444-4212-b63c-e48713b0c558');\n",
              "          const dataTable =\n",
              "            await google.colab.kernel.invokeFunction('convertToInteractive',\n",
              "                                                     [key], {});\n",
              "          if (!dataTable) return;\n",
              "\n",
              "          const docLinkHtml = 'Like what you see? Visit the ' +\n",
              "            '<a target=\"_blank\" href=https://colab.research.google.com/notebooks/data_table.ipynb>data table notebook</a>'\n",
              "            + ' to learn more about interactive tables.';\n",
              "          element.innerHTML = '';\n",
              "          dataTable['output_type'] = 'display_data';\n",
              "          await google.colab.output.renderOutput(dataTable, element);\n",
              "          const docLink = document.createElement('div');\n",
              "          docLink.innerHTML = docLinkHtml;\n",
              "          element.appendChild(docLink);\n",
              "        }\n",
              "      </script>\n",
              "    </div>\n",
              "  </div>\n",
              "  "
            ]
          },
          "metadata": {},
          "execution_count": 156
        }
      ]
    },
    {
      "cell_type": "code",
      "source": [
        "Month1 = df.loc[df['Month'] == 1]\n",
        "Month2 = df.loc[df['Month'] == 2]\n",
        "Month3 = df.loc[df['Month'] == 3]\n",
        "Month4 = df.loc[df['Month'] == 4]\n",
        "Month5 = df.loc[df['Month'] == 5]\n",
        "Month6 = df.loc[df['Month'] == 6]\n",
        "Month7 = df.loc[df['Month'] == 7]\n",
        "Month8 = df.loc[df['Month'] == 8]\n",
        "Month9 = df.loc[df['Month'] == 9]\n",
        "Month10 = df.loc[df['Month'] == 10]\n",
        "Month11 = df.loc[df['Month'] == 11]\n",
        "Month12 = df.loc[df['Month'] == 12]"
      ],
      "metadata": {
        "id": "dxH_8dN0HDDJ"
      },
      "execution_count": 157,
      "outputs": []
    },
    {
      "cell_type": "code",
      "source": [
        "# Example of the Kruskal-Wallis H Test to determine if there is a difference in HPC levels over the months.\n",
        "from scipy.stats import kruskal\n",
        "data1 = Month1['HPC CFU/ml']\n",
        "data2 = Month2['HPC CFU/ml']\n",
        "data3 = Month3['HPC CFU/ml']\n",
        "data4 = Month4['HPC CFU/ml']\n",
        "data5 = Month5['HPC CFU/ml']\n",
        "data6 = Month6['HPC CFU/ml']\n",
        "data7 = Month7['HPC CFU/ml']\n",
        "data8 = Month8['HPC CFU/ml']\n",
        "data9 = Month9['HPC CFU/ml']\n",
        "data10 = Month10['HPC CFU/ml']\n",
        "data11 = Month11['HPC CFU/ml']\n",
        "data12 = Month12['HPC CFU/ml']\n",
        "stat, p = kruskal(data1, data2, data3, data4, data5, data6, data7, data8, data9, data10, data11, data12)\n",
        "print('stat=%.3f, p=%.100f' % (stat, p))\n",
        "if p > 0.05:\n",
        "\tprint('Probably the same distribution')\n",
        "else:\n",
        "\tprint('Probably different distributions')"
      ],
      "metadata": {
        "colab": {
          "base_uri": "https://localhost:8080/"
        },
        "id": "GNgT3J14HUPK",
        "outputId": "ef3b62b1-833b-4c19-bf88-627a276b9881"
      },
      "execution_count": 158,
      "outputs": [
        {
          "output_type": "stream",
          "name": "stdout",
          "text": [
            "stat=97.462, p=0.0000000000000005673720415484226438511060349130897417211616645497940236708700467715971171855926513672\n",
            "Probably different distributions\n"
          ]
        }
      ]
    }
  ]
}